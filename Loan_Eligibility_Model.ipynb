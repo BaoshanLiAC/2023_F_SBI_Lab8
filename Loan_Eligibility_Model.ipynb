{
 "cells": [
  {
   "cell_type": "markdown",
   "metadata": {},
   "source": [
    "# Classification Agorithms"
   ]
  },
  {
   "cell_type": "markdown",
   "metadata": {
    "id": "Z_fGl8o4J2FR"
   },
   "source": [
    "## **Loan Eligibility Prediction Model**"
   ]
  },
  {
   "cell_type": "markdown",
   "metadata": {},
   "source": [
    "### Project Scope:\n",
    "\n",
    "Loans form an integral part of banking operations. However, not all loans are returned and hence it is important for a bank to closely moniter its loan applications. This case study is an analysis of the German Credit data. It contains details of 614 loan applicants with 13 attributes and the classification whether an applicant was granted loan or denied loan.\n",
    "\n",
    "**Your role:** Using the available dataset, train a classification model to predict whether an applicant should be given loan.\n",
    "\n",
    "**Goal:** Build a model to predict loan eligiblity with an average acuracy of more than 76%\n",
    "\n",
    "**Specifics:** \n",
    "\n",
    "* Machine Learning task: Classification model \n",
    "* Target variable: Loan_Status \n",
    "* Input variables: Refer to data dictionary below\n",
    "* Success Criteria: Accuracy of 76% and above\n"
   ]
  },
  {
   "cell_type": "markdown",
   "metadata": {},
   "source": [
    "## Data Dictionary:\n",
    "\n",
    "* **Loan_ID:** Applicant ID\n",
    "* **Gender:** Gender of the applicant Male/Female\n",
    "* **Married:** Marital status of the applicant\n",
    "* **Dependents:** Number of dependants the applicant has\n",
    "* **Education:** Highest level of education\n",
    "* **Self_Employed:** Whether self-employed Yes/No\n",
    "* **ApplicantIncome:** Income of the applicant\n",
    "* **CoapplicantIncome:** Income of the co-applicant\n",
    "* **LoanAmount:** Loan amount requested\n",
    "* **Loan_Amount_Term:** Term of the loan\n",
    "* **Credit_History:** Whether applicant has a credit history\n",
    "* **Property_Area:** Current property location\n",
    "* **Loan_Approved:** Loan approved yes/no"
   ]
  },
  {
   "cell_type": "markdown",
   "metadata": {
    "id": "RYOHc68YujYE"
   },
   "source": [
    "## **Data Analysis and Data Prep**"
   ]
  },
  {
   "cell_type": "markdown",
   "metadata": {
    "id": "lc_kizYoJ2FS"
   },
   "source": [
    "### Loading all the necessary packages"
   ]
  },
  {
   "cell_type": "code",
   "execution_count": 82,
   "metadata": {
    "id": "AkAmUuumJ2FU"
   },
   "outputs": [],
   "source": [
    "import pandas as pd\n",
    "import numpy as np\n",
    "import seaborn as sns\n",
    "import matplotlib.pyplot as plt\n",
    "%matplotlib inline\n",
    "import warnings\n",
    "warnings.filterwarnings(\"ignore\")"
   ]
  },
  {
   "cell_type": "markdown",
   "metadata": {
    "id": "ZsJCxVwOJ2FU"
   },
   "source": [
    "### Reading the data"
   ]
  },
  {
   "cell_type": "code",
   "execution_count": 83,
   "metadata": {
    "colab": {
     "base_uri": "https://localhost:8080/",
     "height": 0
    },
    "id": "LPxkm7y6J2FW",
    "outputId": "de99afc2-de77-4a01-99da-b48d266d5a19"
   },
   "outputs": [
    {
     "data": {
      "text/html": [
       "<div>\n",
       "<style scoped>\n",
       "    .dataframe tbody tr th:only-of-type {\n",
       "        vertical-align: middle;\n",
       "    }\n",
       "\n",
       "    .dataframe tbody tr th {\n",
       "        vertical-align: top;\n",
       "    }\n",
       "\n",
       "    .dataframe thead th {\n",
       "        text-align: right;\n",
       "    }\n",
       "</style>\n",
       "<table border=\"1\" class=\"dataframe\">\n",
       "  <thead>\n",
       "    <tr style=\"text-align: right;\">\n",
       "      <th></th>\n",
       "      <th>Loan_ID</th>\n",
       "      <th>Gender</th>\n",
       "      <th>Married</th>\n",
       "      <th>Dependents</th>\n",
       "      <th>Education</th>\n",
       "      <th>Self_Employed</th>\n",
       "      <th>ApplicantIncome</th>\n",
       "      <th>CoapplicantIncome</th>\n",
       "      <th>LoanAmount</th>\n",
       "      <th>Loan_Amount_Term</th>\n",
       "      <th>Credit_History</th>\n",
       "      <th>Property_Area</th>\n",
       "      <th>Loan_Approved</th>\n",
       "    </tr>\n",
       "  </thead>\n",
       "  <tbody>\n",
       "    <tr>\n",
       "      <th>0</th>\n",
       "      <td>LP001002</td>\n",
       "      <td>Male</td>\n",
       "      <td>No</td>\n",
       "      <td>0</td>\n",
       "      <td>Graduate</td>\n",
       "      <td>No</td>\n",
       "      <td>5849</td>\n",
       "      <td>0.0</td>\n",
       "      <td>128</td>\n",
       "      <td>360</td>\n",
       "      <td>1</td>\n",
       "      <td>Urban</td>\n",
       "      <td>1</td>\n",
       "    </tr>\n",
       "    <tr>\n",
       "      <th>1</th>\n",
       "      <td>LP001003</td>\n",
       "      <td>Male</td>\n",
       "      <td>Yes</td>\n",
       "      <td>1</td>\n",
       "      <td>Graduate</td>\n",
       "      <td>No</td>\n",
       "      <td>4583</td>\n",
       "      <td>1508.0</td>\n",
       "      <td>128</td>\n",
       "      <td>360</td>\n",
       "      <td>1</td>\n",
       "      <td>Rural</td>\n",
       "      <td>0</td>\n",
       "    </tr>\n",
       "    <tr>\n",
       "      <th>2</th>\n",
       "      <td>LP001005</td>\n",
       "      <td>Male</td>\n",
       "      <td>Yes</td>\n",
       "      <td>0</td>\n",
       "      <td>Graduate</td>\n",
       "      <td>Yes</td>\n",
       "      <td>3000</td>\n",
       "      <td>0.0</td>\n",
       "      <td>66</td>\n",
       "      <td>360</td>\n",
       "      <td>1</td>\n",
       "      <td>Urban</td>\n",
       "      <td>1</td>\n",
       "    </tr>\n",
       "    <tr>\n",
       "      <th>3</th>\n",
       "      <td>LP001006</td>\n",
       "      <td>Male</td>\n",
       "      <td>Yes</td>\n",
       "      <td>0</td>\n",
       "      <td>Not Graduate</td>\n",
       "      <td>No</td>\n",
       "      <td>2583</td>\n",
       "      <td>2358.0</td>\n",
       "      <td>120</td>\n",
       "      <td>360</td>\n",
       "      <td>1</td>\n",
       "      <td>Urban</td>\n",
       "      <td>1</td>\n",
       "    </tr>\n",
       "    <tr>\n",
       "      <th>4</th>\n",
       "      <td>LP001008</td>\n",
       "      <td>Male</td>\n",
       "      <td>No</td>\n",
       "      <td>0</td>\n",
       "      <td>Graduate</td>\n",
       "      <td>No</td>\n",
       "      <td>6000</td>\n",
       "      <td>0.0</td>\n",
       "      <td>141</td>\n",
       "      <td>360</td>\n",
       "      <td>1</td>\n",
       "      <td>Urban</td>\n",
       "      <td>1</td>\n",
       "    </tr>\n",
       "  </tbody>\n",
       "</table>\n",
       "</div>"
      ],
      "text/plain": [
       "    Loan_ID Gender Married Dependents     Education Self_Employed  \\\n",
       "0  LP001002   Male      No          0      Graduate            No   \n",
       "1  LP001003   Male     Yes          1      Graduate            No   \n",
       "2  LP001005   Male     Yes          0      Graduate           Yes   \n",
       "3  LP001006   Male     Yes          0  Not Graduate            No   \n",
       "4  LP001008   Male      No          0      Graduate            No   \n",
       "\n",
       "   ApplicantIncome  CoapplicantIncome  LoanAmount  Loan_Amount_Term  \\\n",
       "0             5849                0.0         128               360   \n",
       "1             4583             1508.0         128               360   \n",
       "2             3000                0.0          66               360   \n",
       "3             2583             2358.0         120               360   \n",
       "4             6000                0.0         141               360   \n",
       "\n",
       "   Credit_History Property_Area  Loan_Approved  \n",
       "0               1         Urban              1  \n",
       "1               1         Rural              0  \n",
       "2               1         Urban              1  \n",
       "3               1         Urban              1  \n",
       "4               1         Urban              1  "
      ]
     },
     "execution_count": 83,
     "metadata": {},
     "output_type": "execute_result"
    }
   ],
   "source": [
    "# Import the data from 'credit.csv'\n",
    "df = pd.read_csv('credit.csv')\n",
    "df.head(5)"
   ]
  },
  {
   "cell_type": "code",
   "execution_count": 84,
   "metadata": {},
   "outputs": [
    {
     "name": "stdout",
     "output_type": "stream",
     "text": [
      "<class 'pandas.core.frame.DataFrame'>\n",
      "RangeIndex: 614 entries, 0 to 613\n",
      "Data columns (total 13 columns):\n",
      " #   Column             Non-Null Count  Dtype  \n",
      "---  ------             --------------  -----  \n",
      " 0   Loan_ID            614 non-null    object \n",
      " 1   Gender             614 non-null    object \n",
      " 2   Married            614 non-null    object \n",
      " 3   Dependents         614 non-null    object \n",
      " 4   Education          614 non-null    object \n",
      " 5   Self_Employed      614 non-null    object \n",
      " 6   ApplicantIncome    614 non-null    int64  \n",
      " 7   CoapplicantIncome  614 non-null    float64\n",
      " 8   LoanAmount         614 non-null    int64  \n",
      " 9   Loan_Amount_Term   614 non-null    int64  \n",
      " 10  Credit_History     614 non-null    int64  \n",
      " 11  Property_Area      614 non-null    object \n",
      " 12  Loan_Approved      614 non-null    int64  \n",
      "dtypes: float64(1), int64(5), object(7)\n",
      "memory usage: 62.5+ KB\n",
      "(614, 13)\n"
     ]
    }
   ],
   "source": [
    "# check the number of rows and observations\n",
    "df.info()\n",
    "\n",
    "print(df.shape)"
   ]
  },
  {
   "cell_type": "code",
   "execution_count": 85,
   "metadata": {
    "colab": {
     "base_uri": "https://localhost:8080/",
     "height": 0
    },
    "id": "MwgS6DwLJ2FX",
    "outputId": "73767cb5-aed4-4aac-de91-7689c18889ac"
   },
   "outputs": [
    {
     "data": {
      "text/plain": [
       "<Axes: xlabel='Loan_Approved', ylabel='count'>"
      ]
     },
     "execution_count": 85,
     "metadata": {},
     "output_type": "execute_result"
    },
    {
     "data": {
      "image/png": "[encoded data removed]",
      "text/plain": [
       "<Figure size 640x480 with 1 Axes>"
      ]
     },
     "metadata": {},
     "output_type": "display_data"
    }
   ],
   "source": [
    "# How many application were approved and how many were denied? Plot a count plot\n",
    "import seaborn as sns\n",
    "\n",
    "sns.countplot(df, x=\"Loan_Approved\")\n",
    "#sns.barplot(df, x=\"Loan_Approved\", y=\"count(Loan_ID\").set(title=\"approved/denied\")"
   ]
  },
  {
   "cell_type": "markdown",
   "metadata": {},
   "source": [
    "    "
   ]
  },
  {
   "cell_type": "markdown",
   "metadata": {
    "id": "Iid-Mm7SvKLH"
   },
   "source": [
    "### Data Prep"
   ]
  },
  {
   "cell_type": "code",
   "execution_count": 86,
   "metadata": {},
   "outputs": [
    {
     "data": {
      "text/html": [
       "<div>\n",
       "<style scoped>\n",
       "    .dataframe tbody tr th:only-of-type {\n",
       "        vertical-align: middle;\n",
       "    }\n",
       "\n",
       "    .dataframe tbody tr th {\n",
       "        vertical-align: top;\n",
       "    }\n",
       "\n",
       "    .dataframe thead th {\n",
       "        text-align: right;\n",
       "    }\n",
       "</style>\n",
       "<table border=\"1\" class=\"dataframe\">\n",
       "  <thead>\n",
       "    <tr style=\"text-align: right;\">\n",
       "      <th></th>\n",
       "      <th>Gender</th>\n",
       "      <th>Married</th>\n",
       "      <th>Dependents</th>\n",
       "      <th>Education</th>\n",
       "      <th>Self_Employed</th>\n",
       "      <th>ApplicantIncome</th>\n",
       "      <th>CoapplicantIncome</th>\n",
       "      <th>LoanAmount</th>\n",
       "      <th>Loan_Amount_Term</th>\n",
       "      <th>Credit_History</th>\n",
       "      <th>Property_Area</th>\n",
       "      <th>Loan_Approved</th>\n",
       "    </tr>\n",
       "  </thead>\n",
       "  <tbody>\n",
       "    <tr>\n",
       "      <th>0</th>\n",
       "      <td>Male</td>\n",
       "      <td>No</td>\n",
       "      <td>0</td>\n",
       "      <td>Graduate</td>\n",
       "      <td>No</td>\n",
       "      <td>5849</td>\n",
       "      <td>0.0</td>\n",
       "      <td>128</td>\n",
       "      <td>360</td>\n",
       "      <td>1</td>\n",
       "      <td>Urban</td>\n",
       "      <td>1</td>\n",
       "    </tr>\n",
       "    <tr>\n",
       "      <th>1</th>\n",
       "      <td>Male</td>\n",
       "      <td>Yes</td>\n",
       "      <td>1</td>\n",
       "      <td>Graduate</td>\n",
       "      <td>No</td>\n",
       "      <td>4583</td>\n",
       "      <td>1508.0</td>\n",
       "      <td>128</td>\n",
       "      <td>360</td>\n",
       "      <td>1</td>\n",
       "      <td>Rural</td>\n",
       "      <td>0</td>\n",
       "    </tr>\n",
       "    <tr>\n",
       "      <th>2</th>\n",
       "      <td>Male</td>\n",
       "      <td>Yes</td>\n",
       "      <td>0</td>\n",
       "      <td>Graduate</td>\n",
       "      <td>Yes</td>\n",
       "      <td>3000</td>\n",
       "      <td>0.0</td>\n",
       "      <td>66</td>\n",
       "      <td>360</td>\n",
       "      <td>1</td>\n",
       "      <td>Urban</td>\n",
       "      <td>1</td>\n",
       "    </tr>\n",
       "    <tr>\n",
       "      <th>3</th>\n",
       "      <td>Male</td>\n",
       "      <td>Yes</td>\n",
       "      <td>0</td>\n",
       "      <td>Not Graduate</td>\n",
       "      <td>No</td>\n",
       "      <td>2583</td>\n",
       "      <td>2358.0</td>\n",
       "      <td>120</td>\n",
       "      <td>360</td>\n",
       "      <td>1</td>\n",
       "      <td>Urban</td>\n",
       "      <td>1</td>\n",
       "    </tr>\n",
       "    <tr>\n",
       "      <th>4</th>\n",
       "      <td>Male</td>\n",
       "      <td>No</td>\n",
       "      <td>0</td>\n",
       "      <td>Graduate</td>\n",
       "      <td>No</td>\n",
       "      <td>6000</td>\n",
       "      <td>0.0</td>\n",
       "      <td>141</td>\n",
       "      <td>360</td>\n",
       "      <td>1</td>\n",
       "      <td>Urban</td>\n",
       "      <td>1</td>\n",
       "    </tr>\n",
       "  </tbody>\n",
       "</table>\n",
       "</div>"
      ],
      "text/plain": [
       "  Gender Married Dependents     Education Self_Employed  ApplicantIncome  \\\n",
       "0   Male      No          0      Graduate            No             5849   \n",
       "1   Male     Yes          1      Graduate            No             4583   \n",
       "2   Male     Yes          0      Graduate           Yes             3000   \n",
       "3   Male     Yes          0  Not Graduate            No             2583   \n",
       "4   Male      No          0      Graduate            No             6000   \n",
       "\n",
       "   CoapplicantIncome  LoanAmount  Loan_Amount_Term  Credit_History  \\\n",
       "0                0.0         128               360               1   \n",
       "1             1508.0         128               360               1   \n",
       "2                0.0          66               360               1   \n",
       "3             2358.0         120               360               1   \n",
       "4                0.0         141               360               1   \n",
       "\n",
       "  Property_Area  Loan_Approved  \n",
       "0         Urban              1  \n",
       "1         Rural              0  \n",
       "2         Urban              1  \n",
       "3         Urban              1  \n",
       "4         Urban              1  "
      ]
     },
     "execution_count": 86,
     "metadata": {},
     "output_type": "execute_result"
    }
   ],
   "source": [
    "# drop 'Loan_ID' variable from the data. We won't need it.\n",
    "df.drop(['Loan_ID'], axis=1, inplace=True)\n",
    "df.head()"
   ]
  },
  {
   "cell_type": "code",
   "execution_count": 87,
   "metadata": {},
   "outputs": [],
   "source": [
    "# Create dummy variables for all 'object' type variables except 'Loan_Status'\n",
    "\n",
    "#pd.get_dummies(df,)\n",
    "\n",
    "#obj_columns=df.select_dfypes(include=['object']).columns.difference(['Loan_Approved'])\n",
    "object_columns = df.select_dtypes(include=['object']).columns\n",
    "object_columns = object_columns[(object_columns != 'Loan_Approved')]\n",
    "\n",
    "df = pd.get_dummies(df, columns=object_columns)\n"
   ]
  },
  {
   "cell_type": "code",
   "execution_count": 88,
   "metadata": {
    "id": "eJHnli8vJ2Fk"
   },
   "outputs": [],
   "source": [
    "# saving this procewssed dataset\n",
    "df.to_csv('Processed_Credit_Dataset.csv', index=None)"
   ]
  },
  {
   "cell_type": "markdown",
   "metadata": {
    "id": "kO38zz_lvQlb"
   },
   "source": [
    "### Data Partition"
   ]
  },
  {
   "cell_type": "code",
   "execution_count": 89,
   "metadata": {
    "id": "Pq-bHTPlJ2Fn"
   },
   "outputs": [
    {
     "name": "stdout",
     "output_type": "stream",
     "text": [
      "Input Features (X):\n",
      "   ApplicantIncome  CoapplicantIncome  LoanAmount  Loan_Amount_Term  \\\n",
      "0             5849                0.0         128               360   \n",
      "1             4583             1508.0         128               360   \n",
      "2             3000                0.0          66               360   \n",
      "3             2583             2358.0         120               360   \n",
      "4             6000                0.0         141               360   \n",
      "\n",
      "   Credit_History  Gender_Female  Gender_Male  Married_No  Married_Yes  \\\n",
      "0               1              0            1           1            0   \n",
      "1               1              0            1           0            1   \n",
      "2               1              0            1           0            1   \n",
      "3               1              0            1           0            1   \n",
      "4               1              0            1           1            0   \n",
      "\n",
      "   Dependents_0  Dependents_1  Dependents_2  Dependents_3+  \\\n",
      "0             1             0             0              0   \n",
      "1             0             1             0              0   \n",
      "2             1             0             0              0   \n",
      "3             1             0             0              0   \n",
      "4             1             0             0              0   \n",
      "\n",
      "   Education_Graduate  Education_Not Graduate  Self_Employed_No  \\\n",
      "0                   1                       0                 1   \n",
      "1                   1                       0                 1   \n",
      "2                   1                       0                 0   \n",
      "3                   0                       1                 1   \n",
      "4                   1                       0                 1   \n",
      "\n",
      "   Self_Employed_Yes  Property_Area_Rural  Property_Area_Semiurban  \\\n",
      "0                  0                    0                        0   \n",
      "1                  0                    1                        0   \n",
      "2                  1                    0                        0   \n",
      "3                  0                    0                        0   \n",
      "4                  0                    0                        0   \n",
      "\n",
      "   Property_Area_Urban  \n",
      "0                    1  \n",
      "1                    0  \n",
      "2                    1  \n",
      "3                    1  \n",
      "4                    1  \n",
      "\n",
      "Target Variable (y):\n",
      "0    1\n",
      "1    0\n",
      "2    1\n",
      "3    1\n",
      "4    1\n",
      "Name: Loan_Approved, dtype: int64\n"
     ]
    }
   ],
   "source": [
    "# Seperate the input features and target variable\n",
    "X = df.drop(['Loan_Approved'], axis=1)  \n",
    "y = df['Loan_Approved']\n",
    "\n",
    "# Display the input features and target variable\n",
    "print(\"Input Features (X):\")\n",
    "print(X.head())\n",
    "\n",
    "print(\"\\nTarget Variable (y):\")\n",
    "print(y.head())"
   ]
  },
  {
   "cell_type": "markdown",
   "metadata": {
    "id": "B2kDu-VHJ2Fn"
   },
   "source": [
    "    "
   ]
  },
  {
   "cell_type": "code",
   "execution_count": 90,
   "metadata": {
    "id": "m4VrDseVJ2Fn"
   },
   "outputs": [
    {
     "name": "stdout",
     "output_type": "stream",
     "text": [
      "X_train shape: (491, 20)\n",
      "y_train shape: (491,)\n",
      "X_test shape: (123, 20)\n",
      "y_test shape: (123,)\n"
     ]
    }
   ],
   "source": [
    "# splitting the data in training and testing set\n",
    "from sklearn.model_selection import train_test_split\n",
    "\n",
    "# Assuming X and y are your input features and target variable\n",
    "# X and y should be defined from the previous example\n",
    "\n",
    "# Split the data into training and testing sets (e.g., 80% training, 20% testing)\n",
    "X_train, X_test, y_train, y_test = train_test_split(X, y, test_size=0.2, random_state=42)\n",
    "\n",
    "# Display the shape of the training and testing sets\n",
    "print(\"X_train shape:\", X_train.shape)\n",
    "print(\"y_train shape:\", y_train.shape)\n",
    "print(\"X_test shape:\", X_test.shape)\n",
    "print(\"y_test shape:\", y_test.shape)"
   ]
  },
  {
   "cell_type": "code",
   "execution_count": 91,
   "metadata": {
    "colab": {
     "base_uri": "https://localhost:8080/",
     "height": 0
    },
    "id": "SzRQ8H5EJ2Fo",
    "outputId": "e64adf59-88f3-4294-fc9e-339097ff6618"
   },
   "outputs": [
    {
     "name": "stdout",
     "output_type": "stream",
     "text": [
      "Training set:\n",
      "X_train:\n",
      "     ApplicantIncome  CoapplicantIncome  LoanAmount  Loan_Amount_Term  \\\n",
      "83              6000             2250.0         265               360   \n",
      "90              2958             2900.0         131               360   \n",
      "227             6250             1695.0         210               360   \n",
      "482             2083             3150.0         128               360   \n",
      "464             4166                0.0          98               360   \n",
      "\n",
      "     Credit_History  Gender_Female  Gender_Male  Married_No  Married_Yes  \\\n",
      "83                1              0            1           0            1   \n",
      "90                1              0            1           0            1   \n",
      "227               1              0            1           0            1   \n",
      "482               1              0            1           0            1   \n",
      "464               0              0            1           1            0   \n",
      "\n",
      "     Dependents_0  Dependents_1  Dependents_2  Dependents_3+  \\\n",
      "83              1             0             0              0   \n",
      "90              1             0             0              0   \n",
      "227             0             0             1              0   \n",
      "482             1             0             0              0   \n",
      "464             1             0             0              0   \n",
      "\n",
      "     Education_Graduate  Education_Not Graduate  Self_Employed_No  \\\n",
      "83                    1                       0                 1   \n",
      "90                    1                       0                 1   \n",
      "227                   1                       0                 1   \n",
      "482                   1                       0                 1   \n",
      "464                   1                       0                 1   \n",
      "\n",
      "     Self_Employed_Yes  Property_Area_Rural  Property_Area_Semiurban  \\\n",
      "83                   0                    0                        1   \n",
      "90                   0                    0                        1   \n",
      "227                  0                    0                        1   \n",
      "482                  0                    0                        1   \n",
      "464                  0                    0                        1   \n",
      "\n",
      "     Property_Area_Urban  \n",
      "83                     0  \n",
      "90                     0  \n",
      "227                    0  \n",
      "482                    0  \n",
      "464                    0  \n",
      "\n",
      "y_train:\n",
      "83     0\n",
      "90     1\n",
      "227    1\n",
      "482    1\n",
      "464    0\n",
      "Name: Loan_Approved, dtype: int64\n",
      "\n",
      "Testing set:\n",
      "X_test:\n",
      "     ApplicantIncome  CoapplicantIncome  LoanAmount  Loan_Amount_Term  \\\n",
      "350             9083                0.0         228               360   \n",
      "377             4310                0.0         130               360   \n",
      "163             4167             1447.0         158               360   \n",
      "609             2900                0.0          71               360   \n",
      "132             2718                0.0          70               360   \n",
      "\n",
      "     Credit_History  Gender_Female  Gender_Male  Married_No  Married_Yes  \\\n",
      "350               1              0            1           0            1   \n",
      "377               1              0            1           0            1   \n",
      "163               1              0            1           0            1   \n",
      "609               1              1            0           1            0   \n",
      "132               1              0            1           1            0   \n",
      "\n",
      "     Dependents_0  Dependents_1  Dependents_2  Dependents_3+  \\\n",
      "350             1             0             0              0   \n",
      "377             1             0             0              0   \n",
      "163             0             0             1              0   \n",
      "609             1             0             0              0   \n",
      "132             1             0             0              0   \n",
      "\n",
      "     Education_Graduate  Education_Not Graduate  Self_Employed_No  \\\n",
      "350                   1                       0                 1   \n",
      "377                   1                       0                 1   \n",
      "163                   1                       0                 1   \n",
      "609                   1                       0                 1   \n",
      "132                   1                       0                 1   \n",
      "\n",
      "     Self_Employed_Yes  Property_Area_Rural  Property_Area_Semiurban  \\\n",
      "350                  0                    0                        1   \n",
      "377                  0                    0                        1   \n",
      "163                  0                    1                        0   \n",
      "609                  0                    1                        0   \n",
      "132                  0                    0                        1   \n",
      "\n",
      "     Property_Area_Urban  \n",
      "350                    0  \n",
      "377                    0  \n",
      "163                    0  \n",
      "609                    0  \n",
      "132                    0  \n",
      "\n",
      "y_test:\n",
      "350    1\n",
      "377    1\n",
      "163    1\n",
      "609    1\n",
      "132    1\n",
      "Name: Loan_Approved, dtype: int64\n"
     ]
    }
   ],
   "source": [
    "# check the split if interested\n",
    "print(\"Training set:\")\n",
    "print(\"X_train:\")\n",
    "print(X_train.head())\n",
    "print(\"\\ny_train:\")\n",
    "print(y_train.head())\n",
    "\n",
    "print(\"\\nTesting set:\")\n",
    "print(\"X_test:\")\n",
    "print(X_test.head())\n",
    "print(\"\\ny_test:\")\n",
    "print(y_test.head())"
   ]
  },
  {
   "cell_type": "markdown",
   "metadata": {},
   "source": [
    "    "
   ]
  },
  {
   "cell_type": "markdown",
   "metadata": {},
   "source": [
    "    "
   ]
  },
  {
   "cell_type": "markdown",
   "metadata": {
    "id": "UMjkOp4WN4A6"
   },
   "source": [
    "# **Models**"
   ]
  },
  {
   "cell_type": "markdown",
   "metadata": {
    "id": "NKdgM9xqxqb-"
   },
   "source": [
    "## <font color='chocolate'>**1. Logistic Regression**</font>"
   ]
  },
  {
   "cell_type": "code",
   "execution_count": 92,
   "metadata": {
    "colab": {
     "base_uri": "https://localhost:8080/"
    },
    "id": "EGT-Zek_yNEk",
    "outputId": "be854121-e3a9-40e9-cf6c-4610a15b3e3c"
   },
   "outputs": [],
   "source": [
    "# Import Logistic Regression Model\n",
    "from sklearn.linear_model import LogisticRegression"
   ]
  },
  {
   "cell_type": "code",
   "execution_count": 93,
   "metadata": {},
   "outputs": [
    {
     "data": {
      "text/html": [
       "<style>#sk-container-id-2 {color: black;}#sk-container-id-2 pre{padding: 0;}#sk-container-id-2 div.sk-toggleable {background-color: white;}#sk-container-id-2 label.sk-toggleable__label {cursor: pointer;display: block;width: 100%;margin-bottom: 0;padding: 0.3em;box-sizing: border-box;text-align: center;}#sk-container-id-2 label.sk-toggleable__label-arrow:before {content: \"▸\";float: left;margin-right: 0.25em;color: #696969;}#sk-container-id-2 label.sk-toggleable__label-arrow:hover:before {color: black;}#sk-container-id-2 div.sk-estimator:hover label.sk-toggleable__label-arrow:before {color: black;}#sk-container-id-2 div.sk-toggleable__content {max-height: 0;max-width: 0;overflow: hidden;text-align: left;background-color: #f0f8ff;}#sk-container-id-2 div.sk-toggleable__content pre {margin: 0.2em;color: black;border-radius: 0.25em;background-color: #f0f8ff;}#sk-container-id-2 input.sk-toggleable__control:checked~div.sk-toggleable__content {max-height: 200px;max-width: 100%;overflow: auto;}#sk-container-id-2 input.sk-toggleable__control:checked~label.sk-toggleable__label-arrow:before {content: \"▾\";}#sk-container-id-2 div.sk-estimator input.sk-toggleable__control:checked~label.sk-toggleable__label {background-color: #d4ebff;}#sk-container-id-2 div.sk-label input.sk-toggleable__control:checked~label.sk-toggleable__label {background-color: #d4ebff;}#sk-container-id-2 input.sk-hidden--visually {border: 0;clip: rect(1px 1px 1px 1px);clip: rect(1px, 1px, 1px, 1px);height: 1px;margin: -1px;overflow: hidden;padding: 0;position: absolute;width: 1px;}#sk-container-id-2 div.sk-estimator {font-family: monospace;background-color: #f0f8ff;border: 1px dotted black;border-radius: 0.25em;box-sizing: border-box;margin-bottom: 0.5em;}#sk-container-id-2 div.sk-estimator:hover {background-color: #d4ebff;}#sk-container-id-2 div.sk-parallel-item::after {content: \"\";width: 100%;border-bottom: 1px solid gray;flex-grow: 1;}#sk-container-id-2 div.sk-label:hover label.sk-toggleable__label {background-color: #d4ebff;}#sk-container-id-2 div.sk-serial::before {content: \"\";position: absolute;border-left: 1px solid gray;box-sizing: border-box;top: 0;bottom: 0;left: 50%;z-index: 0;}#sk-container-id-2 div.sk-serial {display: flex;flex-direction: column;align-items: center;background-color: white;padding-right: 0.2em;padding-left: 0.2em;position: relative;}#sk-container-id-2 div.sk-item {position: relative;z-index: 1;}#sk-container-id-2 div.sk-parallel {display: flex;align-items: stretch;justify-content: center;background-color: white;position: relative;}#sk-container-id-2 div.sk-item::before, #sk-container-id-2 div.sk-parallel-item::before {content: \"\";position: absolute;border-left: 1px solid gray;box-sizing: border-box;top: 0;bottom: 0;left: 50%;z-index: -1;}#sk-container-id-2 div.sk-parallel-item {display: flex;flex-direction: column;z-index: 1;position: relative;background-color: white;}#sk-container-id-2 div.sk-parallel-item:first-child::after {align-self: flex-end;width: 50%;}#sk-container-id-2 div.sk-parallel-item:last-child::after {align-self: flex-start;width: 50%;}#sk-container-id-2 div.sk-parallel-item:only-child::after {width: 0;}#sk-container-id-2 div.sk-dashed-wrapped {border: 1px dashed gray;margin: 0 0.4em 0.5em 0.4em;box-sizing: border-box;padding-bottom: 0.4em;background-color: white;}#sk-container-id-2 div.sk-label label {font-family: monospace;font-weight: bold;display: inline-block;line-height: 1.2em;}#sk-container-id-2 div.sk-label-container {text-align: center;}#sk-container-id-2 div.sk-container {/* jupyter's `normalize.less` sets `[hidden] { display: none; }` but bootstrap.min.css set `[hidden] { display: none !important; }` so we also need the `!important` here to be able to override the default hidden behavior on the sphinx rendered scikit-learn.org. See: https://github.com/scikit-learn/scikit-learn/issues/21755 */display: inline-block !important;position: relative;}#sk-container-id-2 div.sk-text-repr-fallback {display: none;}</style><div id=\"sk-container-id-2\" class=\"sk-top-container\"><div class=\"sk-text-repr-fallback\"><pre>LogisticRegression(random_state=42)</pre><b>In a Jupyter environment, please rerun this cell to show the HTML representation or trust the notebook. <br />On GitHub, the HTML representation is unable to render, please try loading this page with nbviewer.org.</b></div><div class=\"sk-container\" hidden><div class=\"sk-item\"><div class=\"sk-estimator sk-toggleable\"><input class=\"sk-toggleable__control sk-hidden--visually\" id=\"sk-estimator-id-2\" type=\"checkbox\" checked><label for=\"sk-estimator-id-2\" class=\"sk-toggleable__label sk-toggleable__label-arrow\">LogisticRegression</label><div class=\"sk-toggleable__content\"><pre>LogisticRegression(random_state=42)</pre></div></div></div></div></div>"
      ],
      "text/plain": [
       "LogisticRegression(random_state=42)"
      ]
     },
     "execution_count": 93,
     "metadata": {},
     "output_type": "execute_result"
    }
   ],
   "source": [
    "# Fit the model on the data\n",
    "model = LogisticRegression(random_state=42)\n",
    "\n",
    "# Fit the model on the training data\n",
    "model.fit(X_train, y_train)\n"
   ]
  },
  {
   "cell_type": "code",
   "execution_count": 94,
   "metadata": {
    "colab": {
     "base_uri": "https://localhost:8080/"
    },
    "id": "SPohSDFZyXAh",
    "outputId": "a9b06598-f7e2-4682-dea8-61ac22c8661a"
   },
   "outputs": [
    {
     "name": "stdout",
     "output_type": "stream",
     "text": [
      "Accuracy on the testing set: 0.79\n"
     ]
    }
   ],
   "source": [
    "# From sklearn.metrics import accuracy_score and confusion_matrix\n",
    "from sklearn.metrics import accuracy_score, confusion_matrix\n",
    "\n",
    "\n",
    "# Assuming X_test and y_test are your testing data\n",
    "# You should have these from the previous example\n",
    "\n",
    "# Make predictions on the test data\n",
    "y_pred = model.predict(X_test)\n",
    "\n",
    "# Calculate and display the accuracy\n",
    "accuracy = accuracy_score(y_test, y_pred)\n",
    "print(f\"Accuracy on the testing set: {accuracy:.2f}\")"
   ]
  },
  {
   "cell_type": "code",
   "execution_count": 95,
   "metadata": {},
   "outputs": [
    {
     "data": {
      "image/png": "[encoded data removed]",
      "text/plain": [
       "<Figure size 800x600 with 1 Axes>"
      ]
     },
     "metadata": {},
     "output_type": "display_data"
    }
   ],
   "source": [
    "# Print the confusion matrix\n",
    "from sklearn.metrics import confusion_matrix\n",
    "import seaborn as sns\n",
    "import matplotlib.pyplot as plt\n",
    "\n",
    "# Calculate the confusion matrix\n",
    "conf_matrix = confusion_matrix(y_test, y_pred)\n",
    "\n",
    "# Display the confusion matrix using a heatmap\n",
    "plt.figure(figsize=(8, 6))\n",
    "sns.heatmap(conf_matrix, annot=True, fmt=\"d\", cmap=\"Blues\", cbar=False,\n",
    "            xticklabels=model.classes_, yticklabels=model.classes_)\n",
    "plt.xlabel('Predicted')\n",
    "plt.ylabel('Actual')\n",
    "plt.title('Confusion Matrix')\n",
    "plt.show()"
   ]
  },
  {
   "cell_type": "code",
   "execution_count": 96,
   "metadata": {},
   "outputs": [
    {
     "name": "stdout",
     "output_type": "stream",
     "text": [
      "Probabilities:\n",
      "[[0.09538526 0.90461474]\n",
      " [0.07911664 0.92088336]\n",
      " [0.21407187 0.78592813]\n",
      " [0.24718486 0.75281514]\n",
      " [0.11207467 0.88792533]]\n"
     ]
    }
   ],
   "source": [
    "# check how probabilities are assigned\n",
    "probabilities = model.predict_proba(X_test)\n",
    "\n",
    "# Display the first few rows of probability estimates\n",
    "print(\"Probabilities:\")\n",
    "print(probabilities[:5])"
   ]
  },
  {
   "cell_type": "code",
   "execution_count": 98,
   "metadata": {},
   "outputs": [
    {
     "name": "stdout",
     "output_type": "stream",
     "text": [
      "Custom Predictions:\n",
      "[1 1 1 1 1]\n"
     ]
    }
   ],
   "source": [
    "# to change the default threshold and to make it 70% and above\n",
    "#(pypred[:, 1] >= 0.7).astype(int)\n",
    "probabilities_positive_class = model.predict_proba(X_test)[:, 1]\n",
    "\n",
    "# Apply the custom threshold of 0.7\n",
    "custom_predictions = (probabilities_positive_class >= 0.7).astype(int)\n",
    "\n",
    "# Display the first few rows of the custom predictions\n",
    "print(\"Custom Predictions:\")\n",
    "print(custom_predictions[:5])"
   ]
  },
  {
   "cell_type": "markdown",
   "metadata": {},
   "source": [
    "    "
   ]
  },
  {
   "cell_type": "markdown",
   "metadata": {
    "id": "WU_fkGPkJ2Fo"
   },
   "source": [
    "## <font color='chocolate'>**2. Random Forest**"
   ]
  },
  {
   "cell_type": "code",
   "execution_count": 29,
   "metadata": {
    "id": "KeZaDpheJ2Fp"
   },
   "outputs": [],
   "source": [
    "# Import RandomForestClassifier \n",
    "Import RandomForestClassifier "
   ]
  },
  {
   "cell_type": "code",
   "execution_count": 99,
   "metadata": {
    "colab": {
     "base_uri": "https://localhost:8080/"
    },
    "id": "IH7Qr18iJ2Fp",
    "outputId": "be14b25d-1306-4f02-a210-5a2840c2d366"
   },
   "outputs": [
    {
     "name": "stdout",
     "output_type": "stream",
     "text": [
      "Best Hyperparameters: {'max_depth': 10, 'max_features': 'sqrt', 'min_samples_leaf': 2, 'min_samples_split': 2, 'n_estimators': 50}\n",
      "Accuracy on the testing set: 0.79\n"
     ]
    }
   ],
   "source": [
    "# Let's list the tunable hyperparameters for Random Forest algorithm\n",
    "from sklearn.ensemble import RandomForestClassifier\n",
    "from sklearn.model_selection import GridSearchCV\n",
    "from sklearn.metrics import accuracy_score\n",
    "\n",
    "# Initialize the Random Forest classifier\n",
    "rf_classifier = RandomForestClassifier(random_state=42)\n",
    "\n",
    "# Define the hyperparameter grid to search\n",
    "param_grid = {\n",
    "    'n_estimators': [50, 100, 150],\n",
    "    'max_depth': [None, 10, 20],\n",
    "    'min_samples_split': [2, 5, 10],\n",
    "    'min_samples_leaf': [1, 2, 4],\n",
    "    'max_features': ['auto', 'sqrt', 'log2']\n",
    "}\n",
    "\n",
    "# Initialize GridSearchCV\n",
    "grid_search = GridSearchCV(estimator=rf_classifier, param_grid=param_grid, cv=3, scoring='accuracy', n_jobs=-1)\n",
    "\n",
    "# Fit the grid search to the data\n",
    "grid_search.fit(X_train, y_train)\n",
    "\n",
    "# Print the best hyperparameters found\n",
    "print(\"Best Hyperparameters:\", grid_search.best_params_)\n",
    "\n",
    "# Get the best model from the grid search\n",
    "best_rf_model = grid_search.best_estimator_\n",
    "\n",
    "# Make predictions on the test set using the best model\n",
    "y_pred = best_rf_model.predict(X_test)\n",
    "\n",
    "# Evaluate the model\n",
    "accuracy = accuracy_score(y_test, y_pred)\n",
    "print(f\"Accuracy on the testing set: {accuracy:.2f}\")"
   ]
  },
  {
   "cell_type": "markdown",
   "metadata": {
    "id": "Qynt51fiJ2Fp"
   },
   "source": [
    "For random forests,\n",
    "\n",
    "* The first hyperparameter to tune is n_estimators. We will try 100 and 200.\n",
    "\n",
    "* The second one is max_features. Let's try - 'auto', 'sqrt', and 0.33.\n",
    "\n",
    "* The third one is min_samples_leaf. Let's try - 1, 3, 5, 10"
   ]
  },
  {
   "cell_type": "code",
   "execution_count": 100,
   "metadata": {},
   "outputs": [
    {
     "name": "stdout",
     "output_type": "stream",
     "text": [
      "Accuracy on the testing set: 0.76\n",
      "\n",
      "Classification Report:\n",
      "              precision    recall  f1-score   support\n",
      "\n",
      "           0       0.79      0.44      0.57        43\n",
      "           1       0.76      0.94      0.84        80\n",
      "\n",
      "    accuracy                           0.76       123\n",
      "   macro avg       0.77      0.69      0.70       123\n",
      "weighted avg       0.77      0.76      0.74       123\n",
      "\n"
     ]
    }
   ],
   "source": [
    "# Fit a Random Forest Classifier\n",
    "from sklearn.ensemble import RandomForestClassifier\n",
    "from sklearn.metrics import accuracy_score, classification_report\n",
    "\n",
    "# Assuming X_train, X_test, y_train, y_test are already defined\n",
    "\n",
    "# Initialize the Random Forest classifier\n",
    "rf_classifier = RandomForestClassifier(random_state=42)\n",
    "\n",
    "# Fit the model on the training data\n",
    "rf_classifier.fit(X_train, y_train)\n",
    "\n",
    "# Make predictions on the test data\n",
    "y_pred = rf_classifier.predict(X_test)\n",
    "\n",
    "# Evaluate the model\n",
    "accuracy = accuracy_score(y_test, y_pred)\n",
    "print(f\"Accuracy on the testing set: {accuracy:.2f}\")\n",
    "\n",
    "# Display classification report\n",
    "print(\"\\nClassification Report:\")\n",
    "print(classification_report(y_test, y_pred))\n"
   ]
  },
  {
   "cell_type": "code",
   "execution_count": null,
   "metadata": {},
   "outputs": [],
   "source": []
  }
 ],
 "metadata": {
  "colab": {
   "collapsed_sections": [
    "RYOHc68YujYE",
    "lc_kizYoJ2FS",
    "ZsJCxVwOJ2FU",
    "vQniuFLiJ2FZ",
    "Iid-Mm7SvKLH",
    "kO38zz_lvQlb",
    "dcVJD8thJ2Fo",
    "WU_fkGPkJ2Fo",
    "O6Li3YCgJ2Fq",
    "IvmLln6PJ2F0",
    "1i5o-mJxJ2F1",
    "8VR2DLkQJ2F5",
    "pQ6brzE7J2F_",
    "hFMuvW1uJ2Gb",
    "6jkwgRPuQDMl",
    "I-1mdGanQO3N",
    "05_n-tl3J2Gh",
    "GcrbeHLgJ2Gl",
    "_Q2od2oZJ2Gm",
    "5V1nnqq2J2Gs",
    "I6LhGTQoJ2Gy",
    "9VxTAromSFOq",
    "-W0I9QpctKVK",
    "5lZqtS1yJ2G5",
    "FIFI3J9hJ2G7"
   ],
   "name": "Project_Code.ipynb",
   "provenance": []
  },
  "kernelspec": {
   "display_name": "Python 3 (ipykernel)",
   "language": "python",
   "name": "python3"
  },
  "language_info": {
   "codemirror_mode": {
    "name": "ipython",
    "version": 3
   },
   "file_extension": ".py",
   "mimetype": "text/x-python",
   "name": "python",
   "nbconvert_exporter": "python",
   "pygments_lexer": "ipython3",
   "version": "3.11.4"
  }
 },
 "nbformat": 4,
 "nbformat_minor": 1
}
